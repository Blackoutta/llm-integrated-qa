{
 "cells": [
  {
   "cell_type": "code",
   "execution_count": 1,
   "id": "0a49bd26-c120-407d-b73f-69fe492056b1",
   "metadata": {},
   "outputs": [],
   "source": [
    "from datasets import load_dataset, load_from_disk\n",
    "import os\n",
    "from pathlib import Path\n",
    "from typing import Dict\n",
    "from transformers import (\n",
    "    AutoTokenizer,\n",
    "    AutoModelForCausalLM,\n",
    "    AutoModelForSequenceClassification,\n",
    "    DataCollatorForSeq2Seq,\n",
    "    DataCollatorWithPadding,\n",
    "    TrainingArguments,\n",
    "    Seq2SeqTrainingArguments,\n",
    "    Trainer,\n",
    "    Seq2SeqTrainer,\n",
    "    PreTrainedTokenizerFast,\n",
    ")\n",
    "from functools import partial\n",
    "from transformers.models.qwen2.tokenization_qwen2_fast import Qwen2TokenizerFast\n",
    "from transformers.models.qwen2.modeling_qwen2 import Qwen2ForCausalLM, Qwen2ForSequenceClassification\n",
    "from peft import PrefixTuningConfig, get_peft_model, TaskType\n",
    "from peft.peft_model import PeftModelForCausalLM, PeftModelForSequenceClassification\n",
    "from rouge_score import rouge_scorer\n",
    "import numpy as np\n",
    "from transformers import GenerationConfig\n",
    "import torch"
   ]
  },
  {
   "cell_type": "code",
   "execution_count": 2,
   "id": "32ca559b-4d9a-47a1-ad43-911a19329fdf",
   "metadata": {},
   "outputs": [],
   "source": [
    "torch.cuda.empty_cache()"
   ]
  },
  {
   "cell_type": "code",
   "execution_count": null,
   "id": "6f50aaeb-a7a1-4e99-b2ab-25fa8106c1bc",
   "metadata": {},
   "outputs": [
    {
     "data": {
      "text/plain": [
       "('/root/autodl-tmp/.cache/modelscope/hub/Qwen/Qwen2.5-3B-Instruct',\n",
       " '/root/llm_adv_qa/resources/sft_models/keyword/best')"
      ]
     },
     "execution_count": 3,
     "metadata": {},
     "output_type": "execute_result"
    }
   ],
   "source": [
    "cache_dir = '/root/autodl-tmp'\n",
    "# cache_dir = Path.home()\n",
    "base_model_id = \"Qwen/Qwen2.5-3B-Instruct\"\n",
    "base_model_path = str(\n",
    "        Path(cache_dir, \".cache/modelscope/hub\", base_model_id)\n",
    "    )\n",
    "\n",
    "sft_model_path = \"/root/llm_adv_qa/resources/sft_models/keyword/best\"\n",
    "\n",
    "base_model_path, sft_model_path\n"
   ]
  },
  {
   "cell_type": "code",
   "execution_count": 4,
   "id": "88fe7249-6315-464f-b740-9ca7be94d214",
   "metadata": {},
   "outputs": [
    {
     "data": {
      "text/plain": [
       "transformers.models.qwen2.tokenization_qwen2_fast.Qwen2TokenizerFast"
      ]
     },
     "execution_count": 4,
     "metadata": {},
     "output_type": "execute_result"
    }
   ],
   "source": [
    "tokenizer = AutoTokenizer.from_pretrained(base_model_path)\n",
    "type(tokenizer)"
   ]
  },
  {
   "cell_type": "code",
   "execution_count": 5,
   "id": "c72e8ae0-7b3b-4168-a430-653cdd3d32a6",
   "metadata": {},
   "outputs": [
    {
     "data": {
      "application/vnd.jupyter.widget-view+json": {
       "model_id": "90ebd73ff5cf461aa01d57f71fb9c12d",
       "version_major": 2,
       "version_minor": 0
      },
      "text/plain": [
       "Loading checkpoint shards:   0%|          | 0/2 [00:00<?, ?it/s]"
      ]
     },
     "metadata": {},
     "output_type": "display_data"
    },
    {
     "data": {
      "text/plain": [
       "transformers.models.qwen2.modeling_qwen2.Qwen2ForCausalLM"
      ]
     },
     "execution_count": 5,
     "metadata": {},
     "output_type": "execute_result"
    }
   ],
   "source": [
    "base_model = AutoModelForCausalLM.from_pretrained(base_model_path)\n",
    "type(base_model)"
   ]
  },
  {
   "cell_type": "code",
   "execution_count": 6,
   "id": "cb7228ef-7242-46d5-ba21-52b999ff74dd",
   "metadata": {},
   "outputs": [],
   "source": [
    "prompt_template = \"\"\"\n",
    "        请帮我从以下句子中提取关键词。这些关键词是句子中最重要、最能概括句子主题的词汇。通过这些关键词，你可以更好地理解句子的内容。\n",
    "        你只需要回答文本中的关键词,不要回答其他内容. 用户输入： \"{question}\"\"\n",
    "        \"\"\"\n",
    "\n",
    "questions = [\n",
    "        \"无形资产是什么?\",\n",
    "        \"什么是归属于母公司所有者的综合收益总额？\",\n",
    "        \"航发动力2019年的非流动负债比率保留两位小数是多少？\",\n",
    "        \"在上海注册的所有上市公司中，2021年货币资金最高的前3家上市公司为？金额为？\",\n",
    "    ]"
   ]
  },
  {
   "cell_type": "code",
   "execution_count": 8,
   "id": "84c47ae6-9c60-46ce-bfe6-2e86ffe5b591",
   "metadata": {},
   "outputs": [],
   "source": [
    "sft_model = PeftModelForCausalLM.from_pretrained(base_model, sft_model_path)"
   ]
  },
  {
   "cell_type": "code",
   "execution_count": 9,
   "id": "80775fc3-e56f-4437-b033-f91e581b854a",
   "metadata": {},
   "outputs": [
    {
     "name": "stderr",
     "output_type": "stream",
     "text": [
      "The attention mask is not set and cannot be inferred from input because pad token is same as eos token. As a consequence, you may observe unexpected behavior. Please pass your input's `attention_mask` to obtain reliable results.\n"
     ]
    },
    {
     "name": "stdout",
     "output_type": "stream",
     "text": [
      "无形资产\n",
      "---\n",
      "归属于母公司所有者的综合收益总额\n",
      "---\n",
      "非流动负债比率\n",
      "---\n",
      "货币资金最高\n",
      "---\n"
     ]
    }
   ],
   "source": [
    "for q in questions:\n",
    "    prompt = prompt_template.format(question=f\"{q}\")\n",
    "    messages = [{\"role\": \"user\", \"content\": prompt}]\n",
    "    text = tokenizer.apply_chat_template(messages, tokenize=False, add_generation_prompt=True)\n",
    "    # print(text)\n",
    "    inputs = tokenizer(text, return_tensors=\"pt\")\n",
    "    with torch.no_grad():\n",
    "        generated_ids = sft_model.generate(inputs.input_ids, max_new_tokens=64)\n",
    "    generated_ids = [output_ids[len(input_ids):] for input_ids, output_ids in zip(inputs.input_ids, generated_ids)]\n",
    "    response = tokenizer.batch_decode(generated_ids, skip_special_tokens=True)[0]\n",
    "    print(response)\n",
    "    print(\"---\")"
   ]
  }
 ],
 "metadata": {
  "kernelspec": {
   "display_name": "Python 3 (ipykernel)",
   "language": "python",
   "name": "python3"
  },
  "language_info": {
   "codemirror_mode": {
    "name": "ipython",
    "version": 3
   },
   "file_extension": ".py",
   "mimetype": "text/x-python",
   "name": "python",
   "nbconvert_exporter": "python",
   "pygments_lexer": "ipython3",
   "version": "3.12.3"
  }
 },
 "nbformat": 4,
 "nbformat_minor": 5
}
