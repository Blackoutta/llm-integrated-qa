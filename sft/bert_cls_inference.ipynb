{
 "cells": [
  {
   "cell_type": "code",
   "execution_count": 1,
   "id": "0a49bd26-c120-407d-b73f-69fe492056b1",
   "metadata": {},
   "outputs": [],
   "source": [
    "from datasets import load_dataset, load_from_disk\n",
    "import os\n",
    "from pathlib import Path\n",
    "from typing import Dict\n",
    "from transformers import (\n",
    "    AutoTokenizer,\n",
    "    AutoModelForCausalLM,\n",
    "    AutoModelForSequenceClassification,\n",
    "    DataCollatorForSeq2Seq,\n",
    "    DataCollatorWithPadding,\n",
    "    TrainingArguments,\n",
    "    Seq2SeqTrainingArguments,\n",
    "    Trainer,\n",
    "    Seq2SeqTrainer,\n",
    "    PreTrainedTokenizerFast,\n",
    ")\n",
    "from functools import partial\n",
    "from transformers.models.qwen2.tokenization_qwen2_fast import Qwen2TokenizerFast\n",
    "from transformers.models.qwen2.modeling_qwen2 import Qwen2ForCausalLM, Qwen2ForSequenceClassification\n",
    "from peft import PrefixTuningConfig, get_peft_model, TaskType\n",
    "from peft.peft_model import PeftModelForCausalLM, PeftModelForSequenceClassification\n",
    "from rouge_score import rouge_scorer\n",
    "import numpy as np\n",
    "from transformers import GenerationConfig\n",
    "import torch"
   ]
  },
  {
   "cell_type": "code",
   "execution_count": 2,
   "id": "32ca559b-4d9a-47a1-ad43-911a19329fdf",
   "metadata": {},
   "outputs": [],
   "source": [
    "torch.cuda.empty_cache()"
   ]
  },
  {
   "cell_type": "code",
   "execution_count": 3,
   "id": "6f50aaeb-a7a1-4e99-b2ab-25fa8106c1bc",
   "metadata": {},
   "outputs": [
    {
     "data": {
      "text/plain": [
       "('/root/autodl-tmp/.cache/modelscope/hub/tiansz/bert-base-chinese',\n",
       " '/root/llm_adv_qa/resources/sft_models/classification/best')"
      ]
     },
     "execution_count": 3,
     "metadata": {},
     "output_type": "execute_result"
    }
   ],
   "source": [
    "cache_dir = '/root/autodl-tmp'\n",
    "base_model_id = \"tiansz/bert-base-chinese\"\n",
    "sft_model_path = \"/root/llm_adv_qa/resources/sft_models/classification/best\"\n",
    "sft_model_path"
   ]
  },
  {
   "cell_type": "code",
   "execution_count": 4,
   "id": "160d0252-bc72-4b94-9f10-08cf665e59d0",
   "metadata": {},
   "outputs": [],
   "source": [
    "id2label={\n",
    "    0: \"A\",\n",
    "    1: \"B\",\n",
    "    2: \"C\",\n",
    "    3: \"D\",\n",
    "    4: \"E\",\n",
    "    5: \"F\"\n",
    "}\n",
    "\n",
    "label2id={\n",
    "    \"A\": 0,\n",
    "    \"B\": 1,\n",
    "    \"C\": 2,\n",
    "    \"D\": 3,\n",
    "    \"E\": 4,\n",
    "    \"F\": 5\n",
    "}"
   ]
  },
  {
   "cell_type": "code",
   "execution_count": 5,
   "id": "88fe7249-6315-464f-b740-9ca7be94d214",
   "metadata": {},
   "outputs": [
    {
     "data": {
      "text/plain": [
       "transformers.models.bert.tokenization_bert_fast.BertTokenizerFast"
      ]
     },
     "execution_count": 5,
     "metadata": {},
     "output_type": "execute_result"
    }
   ],
   "source": [
    "tokenizer = AutoTokenizer.from_pretrained(base_model_path)\n",
    "type(tokenizer)"
   ]
  },
  {
   "cell_type": "code",
   "execution_count": 8,
   "id": "cb7228ef-7242-46d5-ba21-52b999ff74dd",
   "metadata": {},
   "outputs": [],
   "source": [
    "prompt_template = \"\"\"\n",
    "        请问“{question}”是属于下面哪个类别的问题?\n",
    "        A: 公司基本信息,包含股票简称, 公司名称, 外文名称, 法定代表人, 注册地址, 办公地址, 公司网址网站, 电子信箱等.\n",
    "        B: 公司员工信息,包含员工人数, 员工专业, 员工类别, 员工教育程度等.\n",
    "        C: 财务报表相关内容, 包含资产负债表, 现金流量表, 利润表 中存在的字段, 包括费用, 资产，金额，收入等.\n",
    "        D: 计算题,无法从年报中直接获得,需要根据计算公式获得, 包括增长率, 率, 比率, 比重,占比等. \n",
    "        E: 统计题，需要从题目获取检索条件，在数据集/数据库中进行检索、过滤、排序后获得结果.        \n",
    "        F: 开放性问题,包括介绍情况,介绍方法,分析情况,分析影响,什么是XXX.\n",
    "        你只需要回答字母编号, 不要回答字母编号及选项文本外的其他内容.\n",
    "        \"\"\"\n",
    "\n",
    "questions = [\n",
    "        \"无形资产是什么?\",\n",
    "        \"什么是归属于母公司所有者的综合收益总额？\",\n",
    "        \"航发动力2019年的非流动负债比率保留两位小数是多少？\",\n",
    "        \"在上海注册的所有上市公司中，2021年货币资金最高的前3家上市公司为？金额为？\",\n",
    "    ]"
   ]
  },
  {
   "cell_type": "code",
   "execution_count": 10,
   "id": "84c47ae6-9c60-46ce-bfe6-2e86ffe5b591",
   "metadata": {},
   "outputs": [],
   "source": [
    "sft_model = AutoModelForSequenceClassification.from_pretrained(sft_model_path)"
   ]
  },
  {
   "cell_type": "code",
   "execution_count": 11,
   "id": "446ccd56-d131-407a-ae8a-5e10011f02cb",
   "metadata": {},
   "outputs": [
    {
     "data": {
      "text/plain": [
       "OrderedDict([('weight',\n",
       "              tensor([[ 0.0133, -0.0199, -0.0037,  ...,  0.0316, -0.0063, -0.0348],\n",
       "                      [ 0.0063, -0.0316,  0.0029,  ..., -0.0237, -0.0049, -0.0034],\n",
       "                      [ 0.0092, -0.0053,  0.0013,  ...,  0.0177, -0.0069,  0.0169],\n",
       "                      [-0.0209,  0.0126,  0.0195,  ..., -0.0177,  0.0019,  0.0080],\n",
       "                      [-0.0074, -0.0024, -0.0031,  ...,  0.0362, -0.0056, -0.0042],\n",
       "                      [ 0.0189, -0.0230, -0.0157,  ..., -0.0100, -0.0052, -0.0078]])),\n",
       "             ('bias',\n",
       "              tensor([ 0.0015, -0.0004,  0.0007, -0.0005, -0.0019, -0.0005]))])"
      ]
     },
     "execution_count": 11,
     "metadata": {},
     "output_type": "execute_result"
    }
   ],
   "source": [
    "sft_model.classifier.state_dict()"
   ]
  },
  {
   "cell_type": "code",
   "execution_count": 12,
   "id": "80775fc3-e56f-4437-b033-f91e581b854a",
   "metadata": {},
   "outputs": [
    {
     "name": "stdout",
     "output_type": "stream",
     "text": [
      "tensor([[-0.1833, -1.8253,  1.4419, -1.5689, -1.8890,  2.1472]])\n",
      "\n",
      "        请问“无形资产是什么?”是属于下面哪个类别的问题?\n",
      "        A: 公司基本信息,包含股票简称, 公司名称, 外文名称, 法定代表人, 注册地址, 办公地址, 公司网址网站, 电子信箱等.\n",
      "        B: 公司员工信息,包含员工人数, 员工专业, 员工类别, 员工教育程度等.\n",
      "        C: 财务报表相关内容, 包含资产负债表, 现金流量表, 利润表 中存在的字段, 包括费用, 资产，金额，收入等.\n",
      "        D: 计算题,无法从年报中直接获得,需要根据计算公式获得, 包括增长率, 率, 比率, 比重,占比等. \n",
      "        E: 统计题，需要从题目获取检索条件，在数据集/数据库中进行检索、过滤、排序后获得结果.        \n",
      "        F: 开放性问题,包括介绍情况,介绍方法,分析情况,分析影响,什么是XXX.\n",
      "        你只需要回答字母编号, 不要回答字母编号及选项文本外的其他内容.\n",
      "        \n",
      "F\n",
      "tensor([[-1.5654, -2.1001,  2.4501, -2.3720, -0.8575,  2.2102]])\n",
      "\n",
      "        请问“什么是归属于母公司所有者的综合收益总额？”是属于下面哪个类别的问题?\n",
      "        A: 公司基本信息,包含股票简称, 公司名称, 外文名称, 法定代表人, 注册地址, 办公地址, 公司网址网站, 电子信箱等.\n",
      "        B: 公司员工信息,包含员工人数, 员工专业, 员工类别, 员工教育程度等.\n",
      "        C: 财务报表相关内容, 包含资产负债表, 现金流量表, 利润表 中存在的字段, 包括费用, 资产，金额，收入等.\n",
      "        D: 计算题,无法从年报中直接获得,需要根据计算公式获得, 包括增长率, 率, 比率, 比重,占比等. \n",
      "        E: 统计题，需要从题目获取检索条件，在数据集/数据库中进行检索、过滤、排序后获得结果.        \n",
      "        F: 开放性问题,包括介绍情况,介绍方法,分析情况,分析影响,什么是XXX.\n",
      "        你只需要回答字母编号, 不要回答字母编号及选项文本外的其他内容.\n",
      "        \n",
      "C\n",
      "tensor([[-1.8485, -0.3136, -1.0759,  6.7310, -1.1321, -1.2661]])\n",
      "\n",
      "        请问“航发动力2019年的非流动负债比率保留两位小数是多少？”是属于下面哪个类别的问题?\n",
      "        A: 公司基本信息,包含股票简称, 公司名称, 外文名称, 法定代表人, 注册地址, 办公地址, 公司网址网站, 电子信箱等.\n",
      "        B: 公司员工信息,包含员工人数, 员工专业, 员工类别, 员工教育程度等.\n",
      "        C: 财务报表相关内容, 包含资产负债表, 现金流量表, 利润表 中存在的字段, 包括费用, 资产，金额，收入等.\n",
      "        D: 计算题,无法从年报中直接获得,需要根据计算公式获得, 包括增长率, 率, 比率, 比重,占比等. \n",
      "        E: 统计题，需要从题目获取检索条件，在数据集/数据库中进行检索、过滤、排序后获得结果.        \n",
      "        F: 开放性问题,包括介绍情况,介绍方法,分析情况,分析影响,什么是XXX.\n",
      "        你只需要回答字母编号, 不要回答字母编号及选项文本外的其他内容.\n",
      "        \n",
      "D\n",
      "tensor([[-1.8011, -0.6427, -1.4893, -2.2620,  6.6368, -1.7857]])\n",
      "\n",
      "        请问“在上海注册的所有上市公司中，2021年货币资金最高的前3家上市公司为？金额为？”是属于下面哪个类别的问题?\n",
      "        A: 公司基本信息,包含股票简称, 公司名称, 外文名称, 法定代表人, 注册地址, 办公地址, 公司网址网站, 电子信箱等.\n",
      "        B: 公司员工信息,包含员工人数, 员工专业, 员工类别, 员工教育程度等.\n",
      "        C: 财务报表相关内容, 包含资产负债表, 现金流量表, 利润表 中存在的字段, 包括费用, 资产，金额，收入等.\n",
      "        D: 计算题,无法从年报中直接获得,需要根据计算公式获得, 包括增长率, 率, 比率, 比重,占比等. \n",
      "        E: 统计题，需要从题目获取检索条件，在数据集/数据库中进行检索、过滤、排序后获得结果.        \n",
      "        F: 开放性问题,包括介绍情况,介绍方法,分析情况,分析影响,什么是XXX.\n",
      "        你只需要回答字母编号, 不要回答字母编号及选项文本外的其他内容.\n",
      "        \n",
      "E\n"
     ]
    }
   ],
   "source": [
    "for q in questions:\n",
    "    input_text = prompt_template.format(question=f\"{q}\")\n",
    "    inputs = tokenizer(input_text, return_tensors=\"pt\")\n",
    "    with torch.no_grad():\n",
    "        outputs = sft_model(**inputs)\n",
    "    logits = outputs.logits\n",
    "    print(logits)\n",
    "    predicted_class = torch.argmax(logits, dim=-1).item()\n",
    "    print(input_text)\n",
    "    print(id2label[predicted_class])\n"
   ]
  },
  {
   "cell_type": "code",
   "execution_count": null,
   "id": "7b46da6b-942b-4d60-8249-c86b3054a003",
   "metadata": {},
   "outputs": [],
   "source": []
  }
 ],
 "metadata": {
  "kernelspec": {
   "display_name": "Python 3 (ipykernel)",
   "language": "python",
   "name": "python3"
  }
 },
 "nbformat": 4,
 "nbformat_minor": 5
}
